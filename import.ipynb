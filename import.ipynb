import pandas as pd

pd.DataFrame({'x':[250,180],'y':[340,560]})